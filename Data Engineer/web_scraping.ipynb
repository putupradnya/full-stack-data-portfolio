{
 "cells": [
  {
   "cell_type": "code",
   "execution_count": 29,
   "metadata": {},
   "outputs": [
    {
     "name": "stdout",
     "output_type": "stream",
     "text": [
      "Requirement already satisfied: bs4 in c:\\users\\user\\appdata\\local\\programs\\python\\python39\\lib\\site-packages (0.0.1)\n",
      "Requirement already satisfied: beautifulsoup4 in c:\\users\\user\\appdata\\local\\programs\\python\\python39\\lib\\site-packages (from bs4) (4.11.1)\n",
      "Requirement already satisfied: soupsieve>1.2 in c:\\users\\user\\appdata\\local\\programs\\python\\python39\\lib\\site-packages (from beautifulsoup4->bs4) (2.3.2.post1)\n"
     ]
    },
    {
     "name": "stderr",
     "output_type": "stream",
     "text": [
      "WARNING: Ignoring invalid distribution -illow (c:\\users\\user\\appdata\\roaming\\python\\python39\\site-packages)\n",
      "WARNING: Ignoring invalid distribution -illow (c:\\users\\user\\appdata\\roaming\\python\\python39\\site-packages)\n",
      "WARNING: Ignoring invalid distribution -illow (c:\\users\\user\\appdata\\roaming\\python\\python39\\site-packages)\n",
      "WARNING: Ignoring invalid distribution -illow (c:\\users\\user\\appdata\\roaming\\python\\python39\\site-packages)\n",
      "WARNING: Ignoring invalid distribution -illow (c:\\users\\user\\appdata\\roaming\\python\\python39\\site-packages)\n",
      "WARNING: Ignoring invalid distribution -illow (c:\\users\\user\\appdata\\roaming\\python\\python39\\site-packages)\n"
     ]
    },
    {
     "name": "stdout",
     "output_type": "stream",
     "text": [
      "Requirement already satisfied: html5lib in c:\\users\\user\\appdata\\local\\programs\\python\\python39\\lib\\site-packages (1.1)\n",
      "Requirement already satisfied: six>=1.9 in c:\\users\\user\\appdata\\local\\programs\\python\\python39\\lib\\site-packages (from html5lib) (1.16.0)\n",
      "Requirement already satisfied: webencodings in c:\\users\\user\\appdata\\local\\programs\\python\\python39\\lib\\site-packages (from html5lib) (0.5.1)\n"
     ]
    },
    {
     "name": "stderr",
     "output_type": "stream",
     "text": [
      "WARNING: Ignoring invalid distribution -illow (c:\\users\\user\\appdata\\roaming\\python\\python39\\site-packages)\n",
      "WARNING: Ignoring invalid distribution -illow (c:\\users\\user\\appdata\\roaming\\python\\python39\\site-packages)\n",
      "WARNING: Ignoring invalid distribution -illow (c:\\users\\user\\appdata\\roaming\\python\\python39\\site-packages)\n",
      "WARNING: Ignoring invalid distribution -illow (c:\\users\\user\\appdata\\roaming\\python\\python39\\site-packages)\n",
      "WARNING: Ignoring invalid distribution -illow (c:\\users\\user\\appdata\\roaming\\python\\python39\\site-packages)\n",
      "WARNING: Ignoring invalid distribution -illow (c:\\users\\user\\appdata\\roaming\\python\\python39\\site-packages)\n"
     ]
    }
   ],
   "source": [
    "!pip install bs4\n",
    "!pip install html5lib"
   ]
  },
  {
   "cell_type": "code",
   "execution_count": 1,
   "metadata": {},
   "outputs": [],
   "source": [
    "from bs4 import BeautifulSoup\n",
    "import html5lib\n",
    "import lxml\n",
    "import requests\n",
    "import pandas as pd\n",
    "import warnings\n",
    "warnings.filterwarnings('ignore')"
   ]
  },
  {
   "cell_type": "code",
   "execution_count": 2,
   "metadata": {},
   "outputs": [
    {
     "name": "stdout",
     "output_type": "stream",
     "text": [
      "[]\n",
      "[]\n"
     ]
    }
   ],
   "source": [
    "import requests\n",
    "import pprint\n",
    "from bs4 import BeautifulSoup\n",
    "\n",
    "res = requests.get('https://inatews.bmkg.go.id/light/?act=realtimeev')\n",
    "html_data = BeautifulSoup(res.text, 'html.parser')\n",
    "\n",
    "info_table = html_data.select('.table-responsive thead tr')\n",
    "data_table = html_data.select('.table-responsive tr td')\n",
    "\n",
    "obj_magi=[]\n",
    "obj_result=[]\n",
    "\n",
    "count = 0\n",
    "for t_data in data_table:\n",
    "    obj_magi.append(t_data)\n",
    "    if len(obj_magi) >8:\n",
    "        # append hasilnya ke \n",
    "        obj_result.append({'Status' :obj_magi[0],'Tanggal': obj_magi[1], 'Jam': obj_magi[2],'Lintang': obj_magi[3], 'Bujur': obj_magi[4], 'Kedalaman': obj_magi[5], 'Magnitude': obj_magi[6], 'MT': obj_magi[7], 'Region':obj_magi[8]})\n",
    "        obj_magi.clear()\n",
    "\n",
    "print(obj_magi)\n",
    "pprint.pprint(obj_result)\n",
    "\n",
    "\n",
    "\n",
    "# pprint.pprint(data_table)\n",
    "\n",
    "\n",
    "# "
   ]
  },
  {
   "cell_type": "code",
   "execution_count": 3,
   "metadata": {},
   "outputs": [],
   "source": [
    "from bs4 import BeautifulSoup\n",
    "import requests\n",
    "\n",
    "def extraction_data():\n",
    "\n",
    "    try:\n",
    "        r = requests.get('https://www.bmkg.go.id')\n",
    "    except Exception:\n",
    "        return None\n",
    "    if r.status_code == 200 :\n",
    "        soup = BeautifulSoup(r.text, 'html.parser')\n",
    "        result= soup.find('span', {'class': 'waktu'})\n",
    "        result = result.text.split(', ')\n",
    "        tanggal = result[0]\n",
    "        waktu = result[1]\n",
    "        result = soup.find('div', {'class': 'col-md-6 col-xs-6 gempabumi-detail no-padding'})\n",
    "        result = result.findChildren('li')\n",
    "        i = 0\n",
    "        magnitudo = None\n",
    "        kedalaman = None\n",
    "        ls = None\n",
    "        bt = None\n",
    "        lokasi = None\n",
    "        dirasakan = None\n",
    "\n",
    "        for res in result:\n",
    "            if i == 1:\n",
    "                magnitudo = res.text\n",
    "            elif i == 2:\n",
    "                kedalaman = res.text\n",
    "            elif i == 3:\n",
    "                koordinat = res.text.split(' - ')\n",
    "                ls = koordinat[0]\n",
    "                bt = koordinat[1]\n",
    "            elif i == 4:\n",
    "                lokasi = res.text\n",
    "            elif i == 5:\n",
    "                dirasakan = res.text\n",
    "            i = i + 1\n",
    "\n",
    "        hasil = dict()\n",
    "        hasil['tanggal'] = tanggal\n",
    "        hasil['waktu'] = waktu\n",
    "        hasil['magnitudo'] = magnitudo\n",
    "        hasil['kedalaman'] = kedalaman\n",
    "        hasil['koordinat'] = {'ls' : ls, 'bt' : bt}\n",
    "        hasil['lokasi'] = lokasi\n",
    "        hasil['dirasakan'] = dirasakan\n",
    "        return hasil\n",
    "    else:\n",
    "        return None\n",
    "\n",
    "\n",
    "def show_result(hasil):\n",
    "    print('Gempa Terakhir berdasarkan BMKG')\n",
    "    print(f\"Tanggal, {hasil['tanggal']}\")\n",
    "    print(f\"Waktu, {hasil['waktu']}\")\n",
    "    print(f\"lokasi: LS={hasil['koordinat']['ls']}, BT={hasil['koordinat']['bt']}\")\n",
    "    print(hasil['lokasi'])\n",
    "    print(hasil['dirasakan'])"
   ]
  },
  {
   "cell_type": "code",
   "execution_count": 4,
   "metadata": {},
   "outputs": [
    {
     "name": "stdout",
     "output_type": "stream",
     "text": [
      "{'tanggal': '28 Maret 2023', 'waktu': '11:31:55 WIB', 'magnitudo': '4.5', 'kedalaman': '10 km', 'koordinat': {'ls': '3.44 LS', 'bt': '138.72 BT'}, 'lokasi': 'Pusat gempa berada di darat 27 km TimurLaut Tolikara', 'dirasakan': 'Dirasakan (Skala MMI): II - III Kab. Wamena'}\n"
     ]
    }
   ],
   "source": [
    "print(extraction_data())"
   ]
  },
  {
   "cell_type": "code",
   "execution_count": null,
   "metadata": {},
   "outputs": [],
   "source": []
  }
 ],
 "metadata": {
  "kernelspec": {
   "display_name": "Python 3",
   "language": "python",
   "name": "python3"
  },
  "language_info": {
   "codemirror_mode": {
    "name": "ipython",
    "version": 3
   },
   "file_extension": ".py",
   "mimetype": "text/x-python",
   "name": "python",
   "nbconvert_exporter": "python",
   "pygments_lexer": "ipython3",
   "version": "3.9.13"
  },
  "orig_nbformat": 4
 },
 "nbformat": 4,
 "nbformat_minor": 2
}
